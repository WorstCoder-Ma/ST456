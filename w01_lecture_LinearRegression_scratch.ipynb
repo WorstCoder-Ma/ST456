{
  "cells": [
    {
      "cell_type": "markdown",
      "metadata": {
        "id": "view-in-github",
        "colab_type": "text"
      },
      "source": [
        "<a href=\"https://colab.research.google.com/github/WorstCoder-Ma/ST456/blob/main/w01_lecture_LinearRegression_scratch.ipynb\" target=\"_parent\"><img src=\"https://colab.research.google.com/assets/colab-badge.svg\" alt=\"Open In Colab\"/></a>"
      ]
    },
    {
      "cell_type": "markdown",
      "metadata": {
        "origin_pos": 0,
        "id": "Yqo_oN24a0Ut"
      },
      "source": [
        "(LSE - ST456 DEEP LEARNING - WT2024)\n",
        "\n",
        "# Linear regression model\n",
        "\n",
        "This notebook implements a **linear regression model from scratch**, including the data pipeline, the model, the loss function, and the minibatch stochastic gradient descent optimiser.\n",
        "\n",
        "It is intended to be used for self-study and as a suplement to lecture content.\n",
        "\n",
        "At the end, we show how to specify the same model using [TensorFlow Functional API](https://www.tensorflow.org/guide/keras/functional_api) (also known as *low-level API*)\n",
        "\n",
        "---\n"
      ]
    },
    {
      "cell_type": "markdown",
      "source": [
        "## Notes for running this code on Google Colab\n",
        "\n",
        "* We don't need hardware accelerators for now. Notebook settings (Edit menu) can be leave as is (default option = `None`).\n",
        "* We won't be using examples from any reference books for now. Just *standard* examples from the Tensorflow documentation and common practice.\n",
        "\n",
        "---\n",
        "\n",
        "## Step 0: importing necessary libraries"
      ],
      "metadata": {
        "id": "8QRwLYIYce3y"
      }
    },
    {
      "cell_type": "code",
      "source": [
        "import matplotlib.pyplot as plt\n",
        "%matplotlib inline\n",
        "import random\n",
        "# tensorflow is our main frawework for deep learning\n",
        "import tensorflow as tf"
      ],
      "metadata": {
        "id": "7vd-_MTUZewp"
      },
      "execution_count": null,
      "outputs": []
    },
    {
      "cell_type": "markdown",
      "metadata": {
        "origin_pos": 4,
        "id": "L-V1FaEia0U1"
      },
      "source": [
        "## Step 1: generating a synthetic dataset\n",
        "\n",
        "To keep things simple, we will **construct an artificial dataset\n",
        "according to a linear model with additive noise.**\n",
        "Our task will be to recover this model's parameters\n",
        "using the finite set of examples contained in our dataset.\n",
        "We will keep the data low-dimensional so we can visualize it easily.\n",
        "\n",
        "In the following code snippet, we generate a dataset\n",
        "containing 1,000 examples, each consisting of 2 features\n",
        "sampled from a standard normal distribution.\n",
        "Thus our synthetic dataset will be a matrix\n",
        "$\\mathbf{X}\\in \\mathbb{R}^{1000 \\times 2}$.\n",
        "\n",
        "**The true parameters generating our dataset will be\n",
        "$\\mathbf{w} = [2, -3.4]^\\top$ and $b = 4.2$**,\n",
        "and our synthetic labels will be assigned according\n",
        "to the following linear model with the noise term $\\epsilon$:\n",
        "\n",
        "**$$\\mathbf{y}= \\mathbf{X} \\mathbf{w} + b + \\mathbf\\epsilon.$$**\n",
        "\n",
        "You could think of $\\epsilon$ as capturing potential\n",
        "measurement errors on the features and labels.\n",
        "We will assume that the standard assumptions hold and thus\n",
        "that $\\epsilon$ obeys a normal distribution with mean of 0.\n",
        "To make our problem easy, we will set its standard deviation to 0.01.\n",
        "\n",
        "The following code generates our synthetic dataset.\n"
      ]
    },
    {
      "cell_type": "code",
      "execution_count": null,
      "metadata": {
        "origin_pos": 6,
        "tab": [
          "tensorflow"
        ],
        "id": "wGd7cZuma0U2"
      },
      "outputs": [],
      "source": [
        "# synthetic data generation function\n",
        "def synthetic_data(w, b, num_examples):\n",
        "    \"\"\"Generate y = Xw + b + noise.\"\"\"\n",
        "    # tensor filled with zeros\n",
        "    X = tf.zeros((num_examples, w.shape[0]))\n",
        "    # initial values from random distribution\n",
        "    X += tf.random.normal(shape=X.shape)\n",
        "    # dot product X * w plus bias\n",
        "    y = tf.matmul(X, tf.reshape(w, (-1, 1))) + b\n",
        "    # add random noise\n",
        "    y += tf.random.normal(shape=y.shape, stddev=0.01)\n",
        "    y = tf.reshape(y, (-1, 1))\n",
        "    return X, y"
      ]
    },
    {
      "cell_type": "code",
      "execution_count": null,
      "metadata": {
        "origin_pos": 7,
        "tab": [
          "tensorflow"
        ],
        "id": "IfDg8Sapa0U3",
        "colab": {
          "base_uri": "https://localhost:8080/"
        },
        "outputId": "721cb26e-9b46-407d-f5c7-963721e749e9"
      },
      "outputs": [
        {
          "output_type": "stream",
          "name": "stdout",
          "text": [
            "features: tf.Tensor([-0.17599694  1.4944768 ], shape=(2,), dtype=float32) \n",
            "label: tf.Tensor([-1.2257875], shape=(1,), dtype=float32)\n"
          ]
        }
      ],
      "source": [
        "# setting parameters (w, b)\n",
        "true_w = tf.constant([2, -3.4])\n",
        "true_b = 4.2\n",
        "# generating the dataset with 1,000 samples\n",
        "features, labels = synthetic_data(true_w, true_b, 1000)\n",
        "# checking the dataset structure (first sample)\n",
        "print('features:', features[0], '\\nlabel:', labels[0])"
      ]
    },
    {
      "cell_type": "markdown",
      "metadata": {
        "origin_pos": 8,
        "id": "iFu7eIQma0U3"
      },
      "source": [
        "Note that **each row in `features` consists of a 2-dimensional data example\n",
        "and that each row in `labels` consists of a 1-dimensional label value (a scalar).**\n"
      ]
    },
    {
      "cell_type": "markdown",
      "metadata": {
        "origin_pos": 10,
        "id": "u3UleroJa0U6"
      },
      "source": [
        "By generating a scatter plot using the second feature `features[:, 1]` and `labels`,\n",
        "we can clearly observe the linear correlation between the two.\n"
      ]
    },
    {
      "cell_type": "code",
      "execution_count": null,
      "metadata": {
        "origin_pos": 11,
        "tab": [
          "tensorflow"
        ],
        "id": "v3_esLxSa0U7",
        "colab": {
          "base_uri": "https://localhost:8080/",
          "height": 487
        },
        "outputId": "fd78465a-e796-4664-9059-4f51bded2242"
      },
      "outputs": [
        {
          "output_type": "display_data",
          "data": {
            "text/plain": [
              "<Figure size 600x500 with 1 Axes>"
            ],
            "image/png": "[encoded data removed]"
          },
          "metadata": {}
        }
      ],
      "source": [
        "# plotting the dataset for visualisation\n",
        "# feel free to change the figsize\n",
        "fig = plt.figure(figsize=(6, 5))\n",
        "# parameters are: X feature, Y label, size of data points (feel free to change it)\n",
        "plt.scatter(features[:, (1)].numpy(), labels.numpy(), 4)\n",
        "plt.title(\"Synthetic dataset\")\n",
        "plt.xlabel(\"2nd feature\")\n",
        "plt.ylabel(\"Label\")\n",
        "plt.show()"
      ]
    },
    {
      "cell_type": "markdown",
      "source": [
        "---\n",
        "\n",
        "## Step 2: linear regression model (from scratch)\n",
        "\n",
        "\n",
        "`[based on the D2L reference book]`\n",
        "\n",
        "While modern deep learning frameworks can automate nearly all of this work, implementing things from scratch is the only way\n",
        "to make sure that you really know what you are doing.\n",
        "Moreover, when it comes time to customize models,\n",
        "defining our own layers or loss functions, understanding how things work under the hood will prove handy.\n",
        "\n",
        "In this section, we will rely only on **(i) tensors for data storage and linear algebra,\n",
        "and (ii) auto differentiation for calculating gradients**."
      ],
      "metadata": {
        "id": "TRHAFheqABFi"
      }
    },
    {
      "cell_type": "markdown",
      "metadata": {
        "origin_pos": 12,
        "id": "U6ZR8RG3a0U7"
      },
      "source": [
        "### 2.1: reading the dataset\n",
        "\n",
        "Recall that training models consists of\n",
        "making multiple passes over the dataset,\n",
        "grabbing one minibatch of examples at a time,\n",
        "and using them to update our model.\n",
        "Since this process is so fundamental\n",
        "to training machine learning algorithms,\n",
        "it is worth defining a **utility function\n",
        "to shuffle the dataset and access it in minibatches**.\n",
        "\n",
        "In the following code, we **define the `data_iter` function** to demonstrate one possible implementation of this functionality. The function **takes a batch size, a matrix of features,\n",
        "and a vector of labels, yielding minibatches of the size `batch_size`**. Each minibatch consists of a tuple of features and labels.\n"
      ]
    },
    {
      "cell_type": "code",
      "execution_count": null,
      "metadata": {
        "origin_pos": 14,
        "tab": [
          "tensorflow"
        ],
        "id": "MY3PmFH_a0U8"
      },
      "outputs": [],
      "source": [
        "# data iterator/loader function\n",
        "def data_iter(batch_size, features, labels):\n",
        "    # how many features\n",
        "    num_examples = len(features)\n",
        "    # indices for all features\n",
        "    indices = list(range(num_examples))\n",
        "    # the examples are read at random\n",
        "    random.shuffle(indices)\n",
        "    # iterate over all features given the batch size\n",
        "    for i in range(0, num_examples, batch_size):\n",
        "        # creates a constant tensor from a tensor-like object\n",
        "        j = tf.constant(indices[i:min(i + batch_size, num_examples)])\n",
        "        # returns the tensor\n",
        "        yield tf.gather(features, j), tf.gather(labels, j)"
      ]
    },
    {
      "cell_type": "markdown",
      "metadata": {
        "origin_pos": 15,
        "id": "WVrN37Gua0U9"
      },
      "source": [
        "In general, note that we want to use reasonably sized minibatches\n",
        "to take advantage of the GPU hardware,\n",
        "which excels at parallelizing operations.\n",
        "Because each example can be fed through our models in parallel\n",
        "and the gradient of the loss function for each example can also be taken in parallel,\n",
        "GPUs allow us to process hundreds of examples in scarcely more time\n",
        "than it might take to process just a single example.\n",
        "\n",
        "To build some intuition, let us read and print\n",
        "the first small batch of data examples.\n",
        "The shape of the features in each minibatch tells us\n",
        "both the minibatch size and the number of input features.\n",
        "Likewise, our minibatch of labels will have a shape given by `batch_size`.\n"
      ]
    },
    {
      "cell_type": "code",
      "execution_count": null,
      "metadata": {
        "origin_pos": 16,
        "tab": [
          "tensorflow"
        ],
        "id": "a7qKYdmna0U9",
        "colab": {
          "base_uri": "https://localhost:8080/"
        },
        "outputId": "f31f4253-c92e-4782-9257-9de149080d82"
      },
      "outputs": [
        {
          "output_type": "stream",
          "name": "stdout",
          "text": [
            "Features:\n",
            " tf.Tensor(\n",
            "[[ 0.79380214  1.1638427 ]\n",
            " [-0.73735374 -0.7482691 ]\n",
            " [-0.48069477  0.8921894 ]\n",
            " [-1.1540174  -0.2114037 ]\n",
            " [ 0.45279223  1.5213    ]\n",
            " [-0.36017817 -0.03113028]\n",
            " [ 0.36189103 -0.6707544 ]\n",
            " [-0.8490193   0.06500974]\n",
            " [-1.7530006   0.62214947]\n",
            " [ 0.65881234  2.33071   ]], shape=(10, 2), dtype=float32) \n",
            "\n",
            "Labels:\n",
            " tf.Tensor(\n",
            "[[ 1.8223872 ]\n",
            " [ 5.272903  ]\n",
            " [ 0.20326053]\n",
            " [ 2.6276374 ]\n",
            " [-0.07397173]\n",
            " [ 3.5793939 ]\n",
            " [ 7.189084  ]\n",
            " [ 2.272732  ]\n",
            " [-1.4028391 ]\n",
            " [-2.4318013 ]], shape=(10, 1), dtype=float32)\n"
          ]
        }
      ],
      "source": [
        "# minibatch size\n",
        "# you can ajust to match your problem requirements (e.g., larger batches for using GPUs)\n",
        "batch_size = 10\n",
        "\n",
        "# checking the data sample structure\n",
        "for X, y in data_iter(batch_size, features, labels):\n",
        "    print(\"Features:\\n\", X, \"\\n\\nLabels:\\n\", y)\n",
        "    break"
      ]
    },
    {
      "cell_type": "markdown",
      "metadata": {
        "origin_pos": 17,
        "id": "DwUD-4Eja0U-"
      },
      "source": [
        "As we run the iteration, we obtain distinct minibatches\n",
        "successively until the entire dataset has been exhausted (try this).\n",
        "While the iteration implemented above is good for didactic purposes,\n",
        "it is inefficient in ways that might get us in trouble on real problems.\n",
        "For example, it requires that we load all the data in memory\n",
        "and that we perform lots of random memory access.\n",
        "The built-in iterators implemented in a deep learning framework\n",
        "are considerably more efficient and they can deal\n",
        "with both data stored in files and data fed via data streams.\n",
        "\n",
        "\n",
        "### 2.2: initialising model parameters\n",
        "\n",
        "**Before we can begin optimizing our model's parameters**, by minibatch stochastic gradient descent or any other optimisation function,\n",
        "**we need some initial parameters.**\n",
        "\n",
        "Below, we initialize weights by sampling\n",
        "random numbers from a normal distribution with mean 0\n",
        "and a standard deviation of 0.01, and setting the bias to 0. `trainable=True` means all weights and the bias will be updated by the optimizer during training until they fit our data sufficiently well.\n"
      ]
    },
    {
      "cell_type": "code",
      "execution_count": null,
      "metadata": {
        "origin_pos": 20,
        "tab": [
          "tensorflow"
        ],
        "id": "uIfnKHBUa0U_"
      },
      "outputs": [],
      "source": [
        "# Initial weights and bias\n",
        "w = tf.Variable(tf.random.normal(shape=(2, 1), mean=0, stddev=0.01), trainable=True)\n",
        "b = tf.Variable(tf.zeros(1), trainable=True)"
      ]
    },
    {
      "cell_type": "code",
      "source": [
        "# checking initial values for w and b\n",
        "print(\"Initial weights vector:\\n\", w, \"\\n\\nInitial bias:\\n\", b)"
      ],
      "metadata": {
        "id": "w1AIMpnD-ON2",
        "colab": {
          "base_uri": "https://localhost:8080/"
        },
        "outputId": "c87ae5c8-95eb-477e-ae96-53154182bf40"
      },
      "execution_count": null,
      "outputs": [
        {
          "output_type": "stream",
          "name": "stdout",
          "text": [
            "Initial weights vector:\n",
            " <tf.Variable 'Variable:0' shape=(2, 1) dtype=float32, numpy=\n",
            "array([[0.00136837],\n",
            "       [0.00427361]], dtype=float32)> \n",
            "\n",
            "Initial bias:\n",
            " <tf.Variable 'Variable:0' shape=(1,) dtype=float32, numpy=array([0.], dtype=float32)>\n"
          ]
        }
      ]
    },
    {
      "cell_type": "markdown",
      "metadata": {
        "origin_pos": 21,
        "id": "P4IF3Z0Wa0U_"
      },
      "source": [
        "\n",
        "### 2.3: defining the model\n",
        "\n",
        "Next, we must **define our model,\n",
        "relating its inputs and parameters to its outputs.**\n",
        "\n",
        "Recall that to calculate the output of the linear model,\n",
        "we simply take the matrix-vector dot product\n",
        "of the input features $\\mathbf{X}$ and the model weights $\\mathbf{w}$,\n",
        "and add the offset $b$ to each example.\n",
        "\n",
        "Note that $\\mathbf{Xw}$  is a vector and $b$ is a scalar, and recall that when we add a vector and a scalar,\n",
        "the scalar is added to each component of the vector (through the [broadcasting](https://www.tensorflow.org/xla/broadcasting) mechanism).\n",
        "\n"
      ]
    },
    {
      "cell_type": "code",
      "execution_count": null,
      "metadata": {
        "origin_pos": 22,
        "tab": [
          "tensorflow"
        ],
        "id": "MYx3yoCVa0VA"
      },
      "outputs": [],
      "source": [
        "# linear regression model\n",
        "def linear_reg(X, w, b):\n",
        "    \"\"\"The linear regression model.\"\"\"\n",
        "    # dot product of X and w plus the bias\n",
        "    return tf.matmul(X, w) + b"
      ]
    },
    {
      "cell_type": "markdown",
      "metadata": {
        "origin_pos": 23,
        "id": "1HkBaTlRa0VA"
      },
      "source": [
        "### 2.4: defining the loss function\n",
        "\n",
        "Since **updating our model requires taking\n",
        "the gradient of our loss function**,\n",
        "we ought to **define the loss function first**.\n",
        "\n",
        "Here we will use the *squared loss function*.\n",
        "In the implementation, we need to transform the true value `y`\n",
        "into the predicted value's shape `y_hat`.\n",
        "The result returned by the following function\n",
        "will also have the same shape as `y_hat`.\n"
      ]
    },
    {
      "cell_type": "code",
      "execution_count": null,
      "metadata": {
        "origin_pos": 24,
        "tab": [
          "tensorflow"
        ],
        "id": "P3gt2GrMa0VB"
      },
      "outputs": [],
      "source": [
        "# loss function - square loss\n",
        "def squared_loss(y_hat, y):\n",
        "    \"\"\"Squared loss.\"\"\"\n",
        "    #return (y_hat - tf.reshape(y, y_hat.shape))**2 / 2\n",
        "    return (tf.reshape(y, y_hat.shape) - y_hat)**2 / 2"
      ]
    },
    {
      "cell_type": "markdown",
      "metadata": {
        "origin_pos": 25,
        "id": "0fTccR8la0VB"
      },
      "source": [
        "### 2.5: defining the optimisation algorithm\n",
        "\n",
        "Despite linear regression has a closed-form (analytic) solution, other deep learning models don't. So, we will use the **minibatch stochastic gradient descent** algorithm.\n",
        "\n",
        "At each step, using one minibatch randomly drawn from our dataset,\n",
        "we will estimate the gradient of the loss with respect to our parameters.\n",
        "Next, we will update our parameters in the direction that may reduce the loss.\n",
        "\n",
        "The following code applies the minibatch stochastic gradient descent update,\n",
        "given a `set of parameters`, a `learning rate`, and a `batch size`.\n",
        "The size of the update step is determined by the learning rate `lr`.\n",
        "Because our loss is calculated as a sum over the minibatch of examples,\n",
        "we normalise our step size by the batch size (`batch_size`),\n",
        "so that the magnitude of a typical step size\n",
        "does not depend heavily on our choice of the batch size.\n"
      ]
    },
    {
      "cell_type": "code",
      "execution_count": null,
      "metadata": {
        "origin_pos": 28,
        "tab": [
          "tensorflow"
        ],
        "id": "_VCjnyGja0VB"
      },
      "outputs": [],
      "source": [
        "# optimisation function - minibatch stochastic gradient descent\n",
        "def sgd(params, grads, lr, batch_size):\n",
        "    \"\"\"Minibatch stochastic gradient descent.\"\"\"\n",
        "    for param, grad in zip(params, grads):\n",
        "        param.assign_sub(lr * grad / batch_size)"
      ]
    },
    {
      "cell_type": "markdown",
      "metadata": {
        "origin_pos": 29,
        "id": "cNLLnfh5a0VC"
      },
      "source": [
        "### 2.6: training the model\n",
        "\n",
        "Now that we have all of the parts in place,\n",
        "we are ready to **implement the main training loop.**\n",
        "\n",
        "It is crucial that you understand this code\n",
        "because you will see nearly identical training loops\n",
        "over and over again throughout most deep learning courses and materials.\n",
        "\n",
        "In each iteration (or *epoch*), we will grab a minibatch of training examples,\n",
        "and pass them through our model to obtain a set of predictions.\n",
        "After calculating the loss, we initiate the backward pass through the network,\n",
        "storing the gradients with respect to each parameter ( we use [automatic differentiation](https://www.tensorflow.org/guide/autodiff) for calculating gradients). Finally, we will call the optimization algorithm to update the model parameters.\n",
        "\n",
        "In summary, we will execute the following loop:\n",
        "\n",
        "* Initialize parameters $(\\mathbf{w}, b)$\n",
        "* Repeat until done\n",
        "    * Compute gradient $\\mathbf{g} \\leftarrow \\partial_{(\\mathbf{w},b)} \\frac{1}{|\\mathcal{B}|} \\sum_{i \\in \\mathcal{B}} l(\\mathbf{x}^{(i)}, y^{(i)}, \\mathbf{w}, b)$\n",
        "    * Update parameters $(\\mathbf{w}, b) \\leftarrow (\\mathbf{w}, b) - \\eta \\mathbf{g}$\n",
        "\n",
        "In each *epoch*, we will iterate through the entire dataset\n",
        "(using the `data_iter` function) once\n",
        "passing through every example in the training dataset\n",
        "(assuming that the number of examples is divisible by the batch size).\n",
        "\n",
        "The number of epochs `num_epochs` and the learning rate `lr` are both hyperparameters, which we set here to 3 and 0.03, respectively.\n",
        "Unfortunately, setting hyperparameters is tricky\n",
        "and requires some adjustment by trial and error."
      ]
    },
    {
      "cell_type": "code",
      "execution_count": null,
      "metadata": {
        "origin_pos": 30,
        "tab": [
          "tensorflow"
        ],
        "id": "r9p41rQoa0VC"
      },
      "outputs": [],
      "source": [
        "# model hyperparameters\n",
        "lr = 0.03           # learning reate\n",
        "num_epochs = 5      # number of training steps\n",
        "model = linear_reg  # model\n",
        "loss = squared_loss # loss function"
      ]
    },
    {
      "cell_type": "code",
      "execution_count": null,
      "metadata": {
        "origin_pos": 33,
        "tab": [
          "tensorflow"
        ],
        "id": "k2Ug1_6na0VD"
      },
      "outputs": [],
      "source": [
        "# main training loop\n",
        "for epoch in range(num_epochs):\n",
        "    for X, y in data_iter(batch_size, features, labels):\n",
        "        with tf.GradientTape() as g:\n",
        "          # minibatch loss in X and y\n",
        "          l = loss(model(X, w, b), y)\n",
        "        # compute gradient on l with respect to [w, b]\n",
        "        dw, db = g.gradient(l, [w, b])\n",
        "        # update parameters using their gradient\n",
        "        sgd([w, b], [dw, db], lr, batch_size)\n",
        "    train_l = loss(model(features, w, b), labels)\n",
        "    print(f'Epoch {epoch + 1}, Loss {float(tf.reduce_mean(train_l)):f}')"
      ]
    },
    {
      "cell_type": "markdown",
      "metadata": {
        "origin_pos": 34,
        "id": "wGV9jzsha0VD"
      },
      "source": [
        "In this case, because we synthesised the dataset ourselves,\n",
        "we know precisely what the true parameters are.\n",
        "Thus, we can **evaluate our success in training\n",
        "by comparing the true parameters\n",
        "with those that we learned** through our training loop.\n",
        "Indeed they turn out to be very close to each other.\n"
      ]
    },
    {
      "cell_type": "code",
      "execution_count": null,
      "metadata": {
        "origin_pos": 35,
        "tab": [
          "tensorflow"
        ],
        "id": "CyYR30Zba0VD"
      },
      "outputs": [],
      "source": [
        "# Model accuracy during training\n",
        "print('True w: ', true_w)\n",
        "print('w: ', w)\n",
        "print(f'Error in estimating w: {true_w - tf.reshape(w, true_w.shape)}')\n",
        "print(f'Error in estimating b: {true_b - b}')"
      ]
    },
    {
      "cell_type": "markdown",
      "metadata": {
        "origin_pos": 36,
        "id": "XDafuMUMa0VE"
      },
      "source": [
        "Note that we should not take it for granted\n",
        "that we are able to recover the parameters perfectly.\n",
        "However, in machine learning, we are typically less concerned\n",
        "with recovering true underlying parameters,\n",
        "and more concerned with parameters that lead to highly accurate prediction.\n",
        "Fortunately, even on difficult optimization problems,\n",
        "stochastic gradient descent can often find remarkably good solutions,\n",
        "owing partly to the fact that, for deep networks,\n",
        "there exist many configurations of the parameters\n",
        "that lead to highly accurate prediction.\n",
        "\n",
        "---\n",
        "\n",
        "### Summary\n",
        "\n",
        "* We saw how a simple model can be implemented and optimised from scratch, using just **tensors and auto differentiation**, without any need for defining layers or fancy optimisers.\n",
        "\n",
        "---\n",
        "\n",
        "### Implementation using the Functional API\n",
        "\n",
        "`[from documentation]:` The Keras functional API is a way to **create models that are more flexible** than the `keras.Sequential API` (covered in the seminars). The functional API can handle **models with non-linear topology, shared layers, and even multiple inputs or outputs**.\n",
        "\n",
        "The main idea is that **a deep learning model is usually a directed acyclic graph (DAG) of layers**. So the functional API is a way to build graphs of layers.\n",
        "\n",
        "The basic steps are:\n",
        "\n",
        "* specify the input layer (`tf.kerasInput`) with proper format\n",
        "* specify any intermediate (hidden) layers, such as `tf.keras.layers.Dense`, using the previous layer as input to the current layer\n",
        "* specify the output layer, with proper activation function\n",
        "* specify the model (`tf.keras.Model`) with proper inputs and outputs\n",
        "\n",
        "In the following example, we implement a single-layer linear regression model and use the same synthetic data for demonstration.\n"
      ]
    },
    {
      "cell_type": "code",
      "source": [
        "# input layer and input shape (2 in this case, referring to our synthetic features)\n",
        "input = tf.keras.Input(shape=(2,))\n",
        "# the linear regression model applied to the input features\n",
        "output = tf.keras.layers.Dense(1)(input)\n",
        "# the model architecture - input and output layers\n",
        "model2 = tf.keras.Model(inputs=input, outputs=output)\n",
        "# model parameters - optimiser, loss function, and performance metrics\n",
        "model2.compile(optimizer=tf.keras.optimizers.SGD(learning_rate=0.03), loss=tf.keras.losses.MeanSquaredError(), metrics=['acc'])\n",
        "# we train the model for a few epochs\n",
        "model2.fit(features, labels, epochs=5, verbose=2)"
      ],
      "metadata": {
        "id": "o_WcKOmgb2Hx"
      },
      "execution_count": null,
      "outputs": []
    }
  ],
  "metadata": {
    "language_info": {
      "name": "python"
    },
    "colab": {
      "provenance": [],
      "include_colab_link": true
    },
    "kernelspec": {
      "name": "python3",
      "display_name": "Python 3"
    }
  },
  "nbformat": 4,
  "nbformat_minor": 0
}